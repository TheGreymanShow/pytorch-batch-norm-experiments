{
  "nbformat": 4,
  "nbformat_minor": 0,
  "metadata": {
    "colab": {
      "name": "batch-norm-experiments",
      "provenance": [],
      "authorship_tag": "ABX9TyOg7nOSpCxdiuFx514j9Gta",
      "include_colab_link": true
    },
    "kernelspec": {
      "name": "python3",
      "display_name": "Python 3"
    },
    "accelerator": "GPU",
    "widgets": {
      "application/vnd.jupyter.widget-state+json": {
        "072f8eaad2c144a7a6ef161e68ff612b": {
          "model_module": "@jupyter-widgets/controls",
          "model_name": "HBoxModel",
          "state": {
            "_view_name": "HBoxView",
            "_dom_classes": [],
            "_model_name": "HBoxModel",
            "_view_module": "@jupyter-widgets/controls",
            "_model_module_version": "1.5.0",
            "_view_count": null,
            "_view_module_version": "1.5.0",
            "box_style": "",
            "layout": "IPY_MODEL_b09ef80546c946b281ac4a17dccf0b0a",
            "_model_module": "@jupyter-widgets/controls",
            "children": [
              "IPY_MODEL_0784ad063cac4055ab9d9f35f12b8ccc",
              "IPY_MODEL_f97af01b2c7a4110bb4bef1fd5f61c7d"
            ]
          }
        },
        "b09ef80546c946b281ac4a17dccf0b0a": {
          "model_module": "@jupyter-widgets/base",
          "model_name": "LayoutModel",
          "state": {
            "_view_name": "LayoutView",
            "grid_template_rows": null,
            "right": null,
            "justify_content": null,
            "_view_module": "@jupyter-widgets/base",
            "overflow": null,
            "_model_module_version": "1.2.0",
            "_view_count": null,
            "flex_flow": null,
            "width": null,
            "min_width": null,
            "border": null,
            "align_items": null,
            "bottom": null,
            "_model_module": "@jupyter-widgets/base",
            "top": null,
            "grid_column": null,
            "overflow_y": null,
            "overflow_x": null,
            "grid_auto_flow": null,
            "grid_area": null,
            "grid_template_columns": null,
            "flex": null,
            "_model_name": "LayoutModel",
            "justify_items": null,
            "grid_row": null,
            "max_height": null,
            "align_content": null,
            "visibility": null,
            "align_self": null,
            "height": null,
            "min_height": null,
            "padding": null,
            "grid_auto_rows": null,
            "grid_gap": null,
            "max_width": null,
            "order": null,
            "_view_module_version": "1.2.0",
            "grid_template_areas": null,
            "object_position": null,
            "object_fit": null,
            "grid_auto_columns": null,
            "margin": null,
            "display": null,
            "left": null
          }
        },
        "0784ad063cac4055ab9d9f35f12b8ccc": {
          "model_module": "@jupyter-widgets/controls",
          "model_name": "FloatProgressModel",
          "state": {
            "_view_name": "ProgressView",
            "style": "IPY_MODEL_c3919e376ef04c0683af5c4aca32e372",
            "_dom_classes": [],
            "description": "",
            "_model_name": "FloatProgressModel",
            "bar_style": "info",
            "max": 1,
            "_view_module": "@jupyter-widgets/controls",
            "_model_module_version": "1.5.0",
            "value": 1,
            "_view_count": null,
            "_view_module_version": "1.5.0",
            "orientation": "horizontal",
            "min": 0,
            "description_tooltip": null,
            "_model_module": "@jupyter-widgets/controls",
            "layout": "IPY_MODEL_ada7ca5473284a5bb16b7987a259ba8f"
          }
        },
        "f97af01b2c7a4110bb4bef1fd5f61c7d": {
          "model_module": "@jupyter-widgets/controls",
          "model_name": "HTMLModel",
          "state": {
            "_view_name": "HTMLView",
            "style": "IPY_MODEL_ab81a3cfe9db4e3792bc69bf93bfc3ea",
            "_dom_classes": [],
            "description": "",
            "_model_name": "HTMLModel",
            "placeholder": "​",
            "_view_module": "@jupyter-widgets/controls",
            "_model_module_version": "1.5.0",
            "value": " 170500096/? [00:20&lt;00:00, 32088433.61it/s]",
            "_view_count": null,
            "_view_module_version": "1.5.0",
            "description_tooltip": null,
            "_model_module": "@jupyter-widgets/controls",
            "layout": "IPY_MODEL_61c4ffd9e39c48dbb470b793989d53d3"
          }
        },
        "c3919e376ef04c0683af5c4aca32e372": {
          "model_module": "@jupyter-widgets/controls",
          "model_name": "ProgressStyleModel",
          "state": {
            "_view_name": "StyleView",
            "_model_name": "ProgressStyleModel",
            "description_width": "initial",
            "_view_module": "@jupyter-widgets/base",
            "_model_module_version": "1.5.0",
            "_view_count": null,
            "_view_module_version": "1.2.0",
            "bar_color": null,
            "_model_module": "@jupyter-widgets/controls"
          }
        },
        "ada7ca5473284a5bb16b7987a259ba8f": {
          "model_module": "@jupyter-widgets/base",
          "model_name": "LayoutModel",
          "state": {
            "_view_name": "LayoutView",
            "grid_template_rows": null,
            "right": null,
            "justify_content": null,
            "_view_module": "@jupyter-widgets/base",
            "overflow": null,
            "_model_module_version": "1.2.0",
            "_view_count": null,
            "flex_flow": null,
            "width": null,
            "min_width": null,
            "border": null,
            "align_items": null,
            "bottom": null,
            "_model_module": "@jupyter-widgets/base",
            "top": null,
            "grid_column": null,
            "overflow_y": null,
            "overflow_x": null,
            "grid_auto_flow": null,
            "grid_area": null,
            "grid_template_columns": null,
            "flex": null,
            "_model_name": "LayoutModel",
            "justify_items": null,
            "grid_row": null,
            "max_height": null,
            "align_content": null,
            "visibility": null,
            "align_self": null,
            "height": null,
            "min_height": null,
            "padding": null,
            "grid_auto_rows": null,
            "grid_gap": null,
            "max_width": null,
            "order": null,
            "_view_module_version": "1.2.0",
            "grid_template_areas": null,
            "object_position": null,
            "object_fit": null,
            "grid_auto_columns": null,
            "margin": null,
            "display": null,
            "left": null
          }
        },
        "ab81a3cfe9db4e3792bc69bf93bfc3ea": {
          "model_module": "@jupyter-widgets/controls",
          "model_name": "DescriptionStyleModel",
          "state": {
            "_view_name": "StyleView",
            "_model_name": "DescriptionStyleModel",
            "description_width": "",
            "_view_module": "@jupyter-widgets/base",
            "_model_module_version": "1.5.0",
            "_view_count": null,
            "_view_module_version": "1.2.0",
            "_model_module": "@jupyter-widgets/controls"
          }
        },
        "61c4ffd9e39c48dbb470b793989d53d3": {
          "model_module": "@jupyter-widgets/base",
          "model_name": "LayoutModel",
          "state": {
            "_view_name": "LayoutView",
            "grid_template_rows": null,
            "right": null,
            "justify_content": null,
            "_view_module": "@jupyter-widgets/base",
            "overflow": null,
            "_model_module_version": "1.2.0",
            "_view_count": null,
            "flex_flow": null,
            "width": null,
            "min_width": null,
            "border": null,
            "align_items": null,
            "bottom": null,
            "_model_module": "@jupyter-widgets/base",
            "top": null,
            "grid_column": null,
            "overflow_y": null,
            "overflow_x": null,
            "grid_auto_flow": null,
            "grid_area": null,
            "grid_template_columns": null,
            "flex": null,
            "_model_name": "LayoutModel",
            "justify_items": null,
            "grid_row": null,
            "max_height": null,
            "align_content": null,
            "visibility": null,
            "align_self": null,
            "height": null,
            "min_height": null,
            "padding": null,
            "grid_auto_rows": null,
            "grid_gap": null,
            "max_width": null,
            "order": null,
            "_view_module_version": "1.2.0",
            "grid_template_areas": null,
            "object_position": null,
            "object_fit": null,
            "grid_auto_columns": null,
            "margin": null,
            "display": null,
            "left": null
          }
        }
      }
    }
  },
  "cells": [
    {
      "cell_type": "markdown",
      "metadata": {
        "id": "view-in-github",
        "colab_type": "text"
      },
      "source": [
        "<a href=\"https://colab.research.google.com/github/TheGreymanShow/pytorch-batch-norm-experiments/blob/master/batch_norm_experiments.ipynb\" target=\"_parent\"><img src=\"https://colab.research.google.com/assets/colab-badge.svg\" alt=\"Open In Colab\"/></a>"
      ]
    },
    {
      "cell_type": "markdown",
      "metadata": {
        "id": "_ExHBnENdotS",
        "colab_type": "text"
      },
      "source": [
        "1. Import Libraries"
      ]
    },
    {
      "cell_type": "code",
      "metadata": {
        "id": "MWJwAs3FdO5l",
        "colab_type": "code",
        "colab": {}
      },
      "source": [
        "import torch\n",
        "import torch.nn as nn\n",
        "import torch.optim as optim\n",
        "from torch.autograd import Variable\n",
        "\n",
        "import torchvision\n",
        "import torchvision.transforms as transforms"
      ],
      "execution_count": 0,
      "outputs": []
    },
    {
      "cell_type": "markdown",
      "metadata": {
        "id": "BO5TjRo2dtV2",
        "colab_type": "text"
      },
      "source": [
        "2. Define CNN Architechture"
      ]
    },
    {
      "cell_type": "code",
      "metadata": {
        "id": "NQ27pbFRd9nP",
        "colab_type": "code",
        "colab": {}
      },
      "source": [
        "class CNN(nn.Module):\n",
        "    \"\"\"\n",
        "    CNN Class that defines the CNN Model\n",
        "    \"\"\"\n",
        "\n",
        "    def __init__(self):\n",
        "        \"\"\"CNN Builder.\"\"\"\n",
        "        super(CNN, self).__init__()\n",
        "\n",
        "        self.conv_layer = nn.Sequential(\n",
        "\n",
        "            # Conv Layer block 1\n",
        "            nn.Conv2d(in_channels=3, out_channels=32, kernel_size=3, padding=1),\n",
        "            #nn.BatchNorm2d(32),\n",
        "            nn.ReLU(inplace=True),\n",
        "            nn.Conv2d(in_channels=32, out_channels=64, kernel_size=3, padding=1),\n",
        "            nn.ReLU(inplace=True),\n",
        "            nn.MaxPool2d(kernel_size=2, stride=2),\n",
        "\n",
        "            # Conv Layer block 2\n",
        "            nn.Conv2d(in_channels=64, out_channels=128, kernel_size=3, padding=1),\n",
        "            #nn.BatchNorm2d(128),\n",
        "            nn.ReLU(inplace=True),\n",
        "            nn.Conv2d(in_channels=128, out_channels=128, kernel_size=3, padding=1),\n",
        "            nn.ReLU(inplace=True),\n",
        "            nn.MaxPool2d(kernel_size=2, stride=2),\n",
        "            nn.Dropout2d(p=0.05),\n",
        "\n",
        "            # Conv Layer block 3\n",
        "            nn.Conv2d(in_channels=128, out_channels=256, kernel_size=3, padding=1),\n",
        "            #nn.BatchNorm2d(256),\n",
        "            nn.ReLU(inplace=True),\n",
        "            nn.Conv2d(in_channels=256, out_channels=256, kernel_size=3, padding=1),\n",
        "            nn.ReLU(inplace=True),\n",
        "            nn.MaxPool2d(kernel_size=2, stride=2),\n",
        "        )\n",
        "\n",
        "        self.fc_layer = nn.Sequential(\n",
        "            nn.Dropout(p=0.1),\n",
        "            nn.Linear(4096, 1024),\n",
        "            nn.ReLU(inplace=True),\n",
        "            nn.Linear(1024, 512),\n",
        "            nn.ReLU(inplace=True),\n",
        "            nn.Dropout(p=0.1),\n",
        "            nn.Linear(512, 10)\n",
        "        )\n",
        "\n",
        "    def forward(self, x):\n",
        "        \"\"\"Perform forward.\"\"\"\n",
        "\n",
        "        # conv layers\n",
        "        x = self.conv_layer(x)\n",
        "\n",
        "        # flatten\n",
        "        x = x.view(x.size(0), -1)\n",
        "\n",
        "        # fc layer\n",
        "        x = self.fc_layer(x)\n",
        "\n",
        "        return x"
      ],
      "execution_count": 0,
      "outputs": []
    },
    {
      "cell_type": "markdown",
      "metadata": {
        "id": "LNpWFXFUdzl1",
        "colab_type": "text"
      },
      "source": [
        "3. Load data into train and test"
      ]
    },
    {
      "cell_type": "code",
      "metadata": {
        "id": "EQsFUBWhd6eP",
        "colab_type": "code",
        "outputId": "01aae40d-5b78-493c-de34-b207380fcf47",
        "colab": {
          "base_uri": "https://localhost:8080/",
          "height": 100,
          "referenced_widgets": [
            "072f8eaad2c144a7a6ef161e68ff612b",
            "b09ef80546c946b281ac4a17dccf0b0a",
            "0784ad063cac4055ab9d9f35f12b8ccc",
            "f97af01b2c7a4110bb4bef1fd5f61c7d",
            "c3919e376ef04c0683af5c4aca32e372",
            "ada7ca5473284a5bb16b7987a259ba8f",
            "ab81a3cfe9db4e3792bc69bf93bfc3ea",
            "61c4ffd9e39c48dbb470b793989d53d3"
          ]
        }
      },
      "source": [
        "transform = transforms.Compose(\n",
        "    [transforms.ToTensor(),\n",
        "     transforms.Normalize((0.5, 0.5, 0.5), (0.5, 0.5, 0.5))])\n",
        "\n",
        "trainset = torchvision.datasets.CIFAR10(root='./data', train=True,\n",
        "                                        download=True, transform=transform)\n",
        "trainloader = torch.utils.data.DataLoader(trainset, batch_size=32,\n",
        "                                          shuffle=True, num_workers=2)\n",
        "\n",
        "testset = torchvision.datasets.CIFAR10(root='./data', train=False,\n",
        "                                       download=True, transform=transform)\n",
        "testloader = torch.utils.data.DataLoader(testset, batch_size=32,\n",
        "                                         shuffle=False, num_workers=2)"
      ],
      "execution_count": 0,
      "outputs": [
        {
          "output_type": "stream",
          "text": [
            "Downloading https://www.cs.toronto.edu/~kriz/cifar-10-python.tar.gz to ./data/cifar-10-python.tar.gz\n"
          ],
          "name": "stdout"
        },
        {
          "output_type": "display_data",
          "data": {
            "application/vnd.jupyter.widget-view+json": {
              "model_id": "072f8eaad2c144a7a6ef161e68ff612b",
              "version_minor": 0,
              "version_major": 2
            },
            "text/plain": [
              "HBox(children=(FloatProgress(value=1.0, bar_style='info', max=1.0), HTML(value='')))"
            ]
          },
          "metadata": {
            "tags": []
          }
        },
        {
          "output_type": "stream",
          "text": [
            "Extracting ./data/cifar-10-python.tar.gz to ./data\n",
            "Files already downloaded and verified\n"
          ],
          "name": "stdout"
        }
      ]
    },
    {
      "cell_type": "markdown",
      "metadata": {
        "id": "ifhuwh_Zd_-h",
        "colab_type": "text"
      },
      "source": [
        "4. Load the model, loss function and optimizer"
      ]
    },
    {
      "cell_type": "code",
      "metadata": {
        "id": "nlUGDSLheCYR",
        "colab_type": "code",
        "colab": {}
      },
      "source": [
        "# Define CNN model\n",
        "net = CNN()\n",
        "net = net.cuda()\n",
        "net = torch.nn.DataParallel(net, device_ids=range(torch.cuda.device_count()))\n",
        "torch.backends.cudnn.benchmark = True\n",
        "\n",
        "# Define the Loss Function\n",
        "criterion = nn.CrossEntropyLoss()\n",
        "\n",
        "# Define the Optimizer\n",
        "optimizer = optim.SGD(net.parameters(), lr=0.1, momentum=0.5)"
      ],
      "execution_count": 0,
      "outputs": []
    },
    {
      "cell_type": "markdown",
      "metadata": {
        "id": "7laLDCd-eLtY",
        "colab_type": "text"
      },
      "source": [
        " 5. Train the model"
      ]
    },
    {
      "cell_type": "code",
      "metadata": {
        "id": "b5lnLulMiy5K",
        "colab_type": "code",
        "outputId": "7e03b133-0e3c-458f-cc35-c7077868d0ee",
        "colab": {
          "base_uri": "https://localhost:8080/",
          "height": 1000
        }
      },
      "source": [
        "train_loss = []\n",
        "test_loss = []\n",
        "\n",
        "train_acc = []\n",
        "test_acc = []\n",
        "\n",
        "print(\"Starting Training...\\n\")\n",
        "for epoch in range(20):  # loop over the dataset multiple times\n",
        "\n",
        "    running_loss = 0.0\n",
        "    train_correct = 0\n",
        "    train_total =0\n",
        "    for i, data in enumerate(trainloader, 0):\n",
        "        # get the inputs; data is a list of [inputs, labels]\n",
        "        inputs, labels = data\n",
        "\n",
        "        inputs = inputs.cuda()\n",
        "        labels = labels.cuda()\n",
        "\n",
        "        # wrap them in Variable\n",
        "        inputs, labels = Variable(inputs), Variable(labels)\n",
        "\n",
        "        # zero the parameter gradients\n",
        "        optimizer.zero_grad()\n",
        "\n",
        "        # forward + backward + optimize\n",
        "        net.train()\n",
        "\n",
        "        outputs = net(inputs)\n",
        "        loss = criterion(outputs, labels)\n",
        "        loss.backward()\n",
        "        optimizer.step()\n",
        "\n",
        "        # accumulate the training loss\n",
        "        running_loss += loss.item()\n",
        "\n",
        "        # accumulate the training acc score\n",
        "        _, predicted = torch.max(outputs.data, 1)\n",
        "        train_total += labels.size(0)\n",
        "        train_correct += (predicted == labels).sum().item()\n",
        "    \n",
        "    train_acc.append(100 * train_correct/train_total)\n",
        "    train_loss.append(running_loss / len(trainloader))\n",
        "\n",
        "    # Calculate the test accuracy and loss\n",
        "    correct = 0\n",
        "    total = 0\n",
        "    running_loss_test = 0.0\n",
        "    with torch.no_grad():\n",
        "        for data in testloader:\n",
        "            images, labels = data\n",
        "\n",
        "            images = images.cuda()\n",
        "            labels = labels.cuda()\n",
        "\n",
        "            inputs, labels = Variable(inputs), Variable(labels)\n",
        "\n",
        "            net.eval()\n",
        "            outputs = net(images)\n",
        "\n",
        "            _, predicted = torch.max(outputs.data, 1)\n",
        "            total += labels.size(0)\n",
        "            correct += (predicted == labels).sum().item()\n",
        "          \n",
        "            loss = criterion(outputs, labels)\n",
        "            running_loss_test += loss.item()\n",
        "\n",
        "    test_acc.append(100 * correct/total)\n",
        "    test_loss.append(running_loss_test / len(testloader))\n",
        "\n",
        "    print(f\"Epoch : {epoch}\")\n",
        "    print(f\"Train accuracy: {100 * train_correct/train_total} ---- Test accuracy : {100 * correct/total}\")\n",
        "    print(f\"Train loss : {running_loss / len(trainloader)} ------ Test Loss: {running_loss_test / len(testloader)}\\n\")\n",
        "\n",
        "print('Finished Training')"
      ],
      "execution_count": 0,
      "outputs": [
        {
          "output_type": "stream",
          "text": [
            "Starting Training...\n",
            "\n",
            "Epoch : 0\n",
            "Train accuracy: 25.726 ---- Test accuracy : 44.97\n",
            "Train loss : 1.9628937603644812 ------ Test Loss: 1.4990527043327355\n",
            "\n",
            "Epoch : 1\n",
            "Train accuracy: 54.072 ---- Test accuracy : 64.13\n",
            "Train loss : 1.2692378385282066 ------ Test Loss: 1.0228394506076655\n",
            "\n",
            "Epoch : 2\n",
            "Train accuracy: 67.888 ---- Test accuracy : 71.76\n",
            "Train loss : 0.9162798480238582 ------ Test Loss: 0.8215796382853779\n",
            "\n",
            "Epoch : 3\n",
            "Train accuracy: 74.952 ---- Test accuracy : 74.41\n",
            "Train loss : 0.723680854339441 ------ Test Loss: 0.7446356900393392\n",
            "\n",
            "Epoch : 4\n",
            "Train accuracy: 79.37 ---- Test accuracy : 77.79\n",
            "Train loss : 0.5954080391258135 ------ Test Loss: 0.6610594987393187\n",
            "\n",
            "Epoch : 5\n",
            "Train accuracy: 82.242 ---- Test accuracy : 76.56\n",
            "Train loss : 0.508671383325175 ------ Test Loss: 0.7076823455266679\n",
            "\n",
            "Epoch : 6\n",
            "Train accuracy: 84.918 ---- Test accuracy : 77.49\n",
            "Train loss : 0.43595426319428005 ------ Test Loss: 0.7103372829409834\n",
            "\n",
            "Epoch : 7\n",
            "Train accuracy: 86.358 ---- Test accuracy : 75.66\n",
            "Train loss : 0.3938155472278595 ------ Test Loss: 0.7963451806920024\n",
            "\n",
            "Epoch : 8\n",
            "Train accuracy: 87.122 ---- Test accuracy : 75.86\n",
            "Train loss : 0.3766908552247366 ------ Test Loss: 0.82192921343322\n",
            "\n",
            "Epoch : 9\n",
            "Train accuracy: 87.11 ---- Test accuracy : 75.28\n",
            "Train loss : 0.3823816212024051 ------ Test Loss: 0.8551687830077193\n",
            "\n",
            "Epoch : 10\n",
            "Train accuracy: 87.206 ---- Test accuracy : 73.54\n",
            "Train loss : 0.38115977640820864 ------ Test Loss: 0.9252657369493296\n",
            "\n",
            "Epoch : 11\n",
            "Train accuracy: 86.402 ---- Test accuracy : 77.31\n",
            "Train loss : 0.4147544672005999 ------ Test Loss: 0.8407841971316657\n",
            "\n",
            "Epoch : 12\n",
            "Train accuracy: 85.682 ---- Test accuracy : 74.78\n",
            "Train loss : 0.44327551191785897 ------ Test Loss: 0.9070536272403912\n",
            "\n",
            "Epoch : 13\n",
            "Train accuracy: 84.194 ---- Test accuracy : 72.67\n",
            "Train loss : 0.49432303574381925 ------ Test Loss: 0.9865288368334024\n",
            "\n",
            "Epoch : 14\n",
            "Train accuracy: 82.464 ---- Test accuracy : 74.13\n",
            "Train loss : 0.551184647195208 ------ Test Loss: 0.9689243186396151\n",
            "\n",
            "Epoch : 15\n",
            "Train accuracy: 79.144 ---- Test accuracy : 70.32\n",
            "Train loss : 0.6642328781181243 ------ Test Loss: 1.0025228764683294\n",
            "\n",
            "Epoch : 16\n",
            "Train accuracy: 74.81 ---- Test accuracy : 66.47\n",
            "Train loss : 0.7983539350621607 ------ Test Loss: 1.1580686612060656\n",
            "\n",
            "Epoch : 17\n",
            "Train accuracy: 71.962 ---- Test accuracy : 64.19\n",
            "Train loss : 0.9003210817669266 ------ Test Loss: 1.2641061816733485\n",
            "\n",
            "Epoch : 18\n",
            "Train accuracy: 67.356 ---- Test accuracy : 62.13\n",
            "Train loss : 1.0397148716358213 ------ Test Loss: 1.2929969601356945\n",
            "\n",
            "Epoch : 19\n",
            "Train accuracy: 62.656 ---- Test accuracy : 52.54\n",
            "Train loss : 1.1799901312006182 ------ Test Loss: 1.466575430224117\n",
            "\n",
            "Finished Training\n"
          ],
          "name": "stdout"
        }
      ]
    },
    {
      "cell_type": "markdown",
      "metadata": {
        "id": "FBV2be6veRcf",
        "colab_type": "text"
      },
      "source": [
        "6. Save the trained model"
      ]
    },
    {
      "cell_type": "code",
      "metadata": {
        "id": "KVOUsFumegzF",
        "colab_type": "code",
        "outputId": "74b86752-d891-44fd-f45c-5ec1f225e654",
        "colab": {
          "base_uri": "https://localhost:8080/",
          "height": 34
        }
      },
      "source": [
        "print('==> Saving model ...')\n",
        "PATH = './cifar_net.pth'\n",
        "torch.save(net.state_dict(), PATH)"
      ],
      "execution_count": 0,
      "outputs": [
        {
          "output_type": "stream",
          "text": [
            "==> Saving model ...\n"
          ],
          "name": "stdout"
        }
      ]
    },
    {
      "cell_type": "markdown",
      "metadata": {
        "id": "AiMsDIaPeZeW",
        "colab_type": "text"
      },
      "source": [
        "7. Load the saved model"
      ]
    },
    {
      "cell_type": "code",
      "metadata": {
        "id": "dRMDJAUOeYSd",
        "colab_type": "code",
        "outputId": "55c31583-138c-4d4b-bb08-9137313ce3b5",
        "colab": {
          "base_uri": "https://localhost:8080/",
          "height": 34
        }
      },
      "source": [
        "net2 = CNN()\n",
        "net2 = net2.cuda()\n",
        "net2 = torch.nn.DataParallel(net2, device_ids=range(torch.cuda.device_count()))\n",
        "torch.backends.cudnn.benchmark = True\n",
        "\n",
        "net2.load_state_dict(torch.load(PATH))"
      ],
      "execution_count": 0,
      "outputs": [
        {
          "output_type": "execute_result",
          "data": {
            "text/plain": [
              "<All keys matched successfully>"
            ]
          },
          "metadata": {
            "tags": []
          },
          "execution_count": 23
        }
      ]
    },
    {
      "cell_type": "markdown",
      "metadata": {
        "id": "vq6qmNvNer-u",
        "colab_type": "text"
      },
      "source": [
        "8. Evaluate Model accuracy"
      ]
    },
    {
      "cell_type": "code",
      "metadata": {
        "id": "uU67VfmFehY-",
        "colab_type": "code",
        "outputId": "5514cc6a-60ef-4207-beb3-91881b3c13bc",
        "colab": {
          "base_uri": "https://localhost:8080/",
          "height": 34
        }
      },
      "source": [
        "y_pred = []\n",
        "y_true = []\n",
        "\n",
        "correct = 0\n",
        "total = 0\n",
        "with torch.no_grad():\n",
        "    for data in testloader:\n",
        "\n",
        "        images, labels = data\n",
        "\n",
        "        images = images.cuda()\n",
        "        labels = labels.cuda()\n",
        "\n",
        "        inputs, labels = Variable(inputs), Variable(labels)\n",
        "\n",
        "        net2.eval()\n",
        "\n",
        "        outputs = net2(images)\n",
        "        _, predicted = torch.max(outputs.data, 1)\n",
        "        total += labels.size(0)\n",
        "        correct += (predicted == labels).sum().item()\n",
        "\n",
        "        y_pred.extend(predicted)\n",
        "        y_true.extend(labels)\n",
        "\n",
        "print('Accuracy of the network on the 10000 test images: %d %%' % (\n",
        "    100 * correct / total))"
      ],
      "execution_count": 0,
      "outputs": [
        {
          "output_type": "stream",
          "text": [
            "Accuracy of the network on the 10000 test images: 83 %\n"
          ],
          "name": "stdout"
        }
      ]
    },
    {
      "cell_type": "markdown",
      "metadata": {
        "id": "03eqUdYbexfv",
        "colab_type": "text"
      },
      "source": [
        "9. Evaluate other performance metrics"
      ]
    },
    {
      "cell_type": "code",
      "metadata": {
        "id": "V9XxpJA-e1uz",
        "colab_type": "code",
        "outputId": "0869c611-caa7-4d47-c38d-e849ae40d6af",
        "colab": {
          "base_uri": "https://localhost:8080/",
          "height": 187
        }
      },
      "source": [
        "from sklearn.metrics import *\n",
        "y_pred[:10]"
      ],
      "execution_count": 0,
      "outputs": [
        {
          "output_type": "execute_result",
          "data": {
            "text/plain": [
              "[tensor(3, device='cuda:0'),\n",
              " tensor(8, device='cuda:0'),\n",
              " tensor(8, device='cuda:0'),\n",
              " tensor(8, device='cuda:0'),\n",
              " tensor(6, device='cuda:0'),\n",
              " tensor(6, device='cuda:0'),\n",
              " tensor(1, device='cuda:0'),\n",
              " tensor(6, device='cuda:0'),\n",
              " tensor(3, device='cuda:0'),\n",
              " tensor(1, device='cuda:0')]"
            ]
          },
          "metadata": {
            "tags": []
          },
          "execution_count": 26
        }
      ]
    },
    {
      "cell_type": "code",
      "metadata": {
        "id": "248Hr3UX4p9M",
        "colab_type": "code",
        "outputId": "9e419cea-8cc6-4eca-abba-fdb48af66a45",
        "colab": {
          "base_uri": "https://localhost:8080/",
          "height": 187
        }
      },
      "source": [
        "y_true[:10]"
      ],
      "execution_count": 0,
      "outputs": [
        {
          "output_type": "execute_result",
          "data": {
            "text/plain": [
              "[tensor(3, device='cuda:0'),\n",
              " tensor(8, device='cuda:0'),\n",
              " tensor(8, device='cuda:0'),\n",
              " tensor(0, device='cuda:0'),\n",
              " tensor(6, device='cuda:0'),\n",
              " tensor(6, device='cuda:0'),\n",
              " tensor(1, device='cuda:0'),\n",
              " tensor(6, device='cuda:0'),\n",
              " tensor(3, device='cuda:0'),\n",
              " tensor(1, device='cuda:0')]"
            ]
          },
          "metadata": {
            "tags": []
          },
          "execution_count": 27
        }
      ]
    }
  ]
}